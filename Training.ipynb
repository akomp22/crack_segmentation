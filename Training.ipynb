{
 "cells": [
  {
   "cell_type": "code",
   "execution_count": 8,
   "metadata": {},
   "outputs": [],
   "source": [
    "from model import *\n",
    "from data import *\n",
    "from train_add import *\n",
    "import matplotlib.pyplot as plt\n",
    "import numpy as np"
   ]
  },
  {
   "cell_type": "markdown",
   "metadata": {},
   "source": [
    "There is 2 folders of data:\n",
    "- folder with images\n",
    "- folder with mask wich have names same as correspondand image in imge folder\n",
    "\n",
    "Function creat_train_data_frame will cread dataframe which contain file path for mask and file path for image for every training example"
   ]
  },
  {
   "cell_type": "code",
   "execution_count": null,
   "metadata": {},
   "outputs": [],
   "source": [
    "df = creat_train_data_frame()\n",
    "\n",
    "data_gen_args = dict(rotation_range=0,\n",
    "                    width_shift_range=0.1,\n",
    "                    height_shift_range=0.1,\n",
    "                    shear_range=0.1,\n",
    "                    zoom_range=0.01,\n",
    "                    horizontal_flip=True,\n",
    "                    fill_mode='nearest')\n",
    "\n",
    "myGene = trainGenerator(1,df,data_gen_args,save_to_dir = None)"
   ]
  },
  {
   "cell_type": "code",
   "execution_count": null,
   "metadata": {},
   "outputs": [],
   "source": [
    "print(df)"
   ]
  },
  {
   "cell_type": "markdown",
   "metadata": {},
   "source": [
    "Next cell would visualise specific number of outputs from training data generator"
   ]
  },
  {
   "cell_type": "code",
   "execution_count": null,
   "metadata": {},
   "outputs": [],
   "source": [
    "for k in range(0,30):\n",
    "    im,mask = next(myGene)\n",
    "    plt.imshow(im[0,:,:,0])\n",
    "    plt.colorbar()\n",
    "    plt.show()\n",
    "    \n",
    "    plt.imshow(mask[0,:,:,0])\n",
    "    plt.colorbar()\n",
    "    plt.show()\n",
    "    \n",
    "    plt.imshow(m2[0,:,:,0])\n",
    "    plt.colorbar()\n",
    "    plt.show()\n",
    "    disp(im,mask)"
   ]
  },
  {
   "cell_type": "markdown",
   "metadata": {},
   "source": [
    "Checking shcedule of learning rate and creating schedule callback"
   ]
  },
  {
   "cell_type": "code",
   "execution_count": 2,
   "metadata": {},
   "outputs": [],
   "source": [
    "e = np.linspace(0,1000,1000)\n",
    "l = []\n",
    "for ee in e:\n",
    "    l.append(scheduler(ee))\n",
    "plt.plot(e,l)"
   ]
  },
  {
   "cell_type": "code",
   "execution_count": null,
   "metadata": {},
   "outputs": [],
   "source": [
    "callback_sch = tf.keras.callbacks.LearningRateScheduler(scheduler)"
   ]
  },
  {
   "cell_type": "markdown",
   "metadata": {},
   "source": [
    "As we deal with crack, which gradualy grow there is both very short crack with lenght on image about 10 pixels and large crack wich take all high of image. Mask contain too classes:\n",
    "- 0 - There is NO crack on correspondent pixel\n",
    "- 1 - There is crack on correspondent pixel\n",
    "\n",
    "Area of any crack(short or long) is small reletive to specimen zone, unefected by crack, so the quantity of 0 pixels is much more than 1 in training set. To make training more robust, the loss weighting should be implimented so that 0 pixels would be not more preferable for model due to its numerous representatives in compare to 1 class. If take loss weights according to hole data set and model would there would be single weightes (in case of presented data set it is 1500). That means that in case when model would misslabel 1 class it would be punished in weight time more than punished in case of misslabeling 0 class. But in such case, short crack would beadly detectable becouse it have less ratio of 1 class to 0 class than long crack\n",
    "\n",
    "\n",
    "\n",
    "\n",
    "weighted_cross_entropy function calculate function and weightes 1 class not according to whole data set but with respect to single current mask 1 to 0 ratio. That mean that for short crack, 1 class loss weights would be biger than for long crack."
   ]
  },
  {
   "cell_type": "code",
   "execution_count": null,
   "metadata": {},
   "outputs": [],
   "source": [
    "model = unet()\n",
    "model.compile(optimizer='adam',loss = weighted_cross_entropy(1))"
   ]
  },
  {
   "cell_type": "markdown",
   "metadata": {},
   "source": [
    "Creat callback for saving weights of model to specified folder"
   ]
  },
  {
   "cell_type": "code",
   "execution_count": null,
   "metadata": {},
   "outputs": [],
   "source": [
    "filepath = '/content/drive/My Drive/ML/Skynet keypoint/checkpoint1/'\n",
    "save_callback=tf.keras.callbacks.ModelCheckpoint(filepath, monitor='train_loss', verbose=0,\n",
    "                                                 save_best_only=False,save_weights_only=True, mode='auto', save_freq=1000)"
   ]
  },
  {
   "cell_type": "markdown",
   "metadata": {},
   "source": [
    "Training"
   ]
  },
  {
   "cell_type": "code",
   "execution_count": null,
   "metadata": {},
   "outputs": [],
   "source": [
    "hist = model.fit_generator(myGene,steps_per_epoch=50,epochs=500,callbacks=[save_callback,callback_sch])"
   ]
  },
  {
   "cell_type": "code",
   "execution_count": null,
   "metadata": {},
   "outputs": [],
   "source": [
    "plt.plot(hist.history['loss'])"
   ]
  },
  {
   "cell_type": "markdown",
   "metadata": {},
   "source": [
    "Checking trained model on validation data"
   ]
  },
  {
   "cell_type": "code",
   "execution_count": null,
   "metadata": {},
   "outputs": [],
   "source": [
    "val_read = val_name_list()\n",
    "k=0\n",
    "while 1:\n",
    "\n",
    "    im = plt.imread(val_read[k])\n",
    "    k=k+1\n",
    "    im = np.expand_dims(im,axis=0)\n",
    "    w = im.shape[2]\n",
    "    w1 = int(w*0.3)\n",
    "    w2 = int(w*0.7)\n",
    "    im = im[:,:,w1:w2,:]\n",
    "\n",
    "    print(im.shape)\n",
    "\n",
    "\n",
    "\n",
    "\n",
    "    m=model.predict(im)\n",
    "    m2 = m.copy()\n",
    "    th = 0.5\n",
    "    m2[m>=th] = 1\n",
    "    m2[m<th] = 0\n",
    "\n",
    "\n",
    "\n",
    "\n",
    "    plt.imshow(m[0,:,:,0])\n",
    "    plt.colorbar()\n",
    "    plt.show()\n",
    "    plt.imshow(m2[0,:,:,0])\n",
    "    plt.colorbar()\n",
    "    plt.show()\n",
    "    plt.imshow(im[0,:,:,:])\n",
    "    plt.colorbar()\n",
    "    plt.show()\n",
    "    disp2(im,m2)"
   ]
  }
 ],
 "metadata": {
  "kernelspec": {
   "display_name": "Python 3",
   "language": "python",
   "name": "python3"
  },
  "language_info": {
   "codemirror_mode": {
    "name": "ipython",
    "version": 3
   },
   "file_extension": ".py",
   "mimetype": "text/x-python",
   "name": "python",
   "nbconvert_exporter": "python",
   "pygments_lexer": "ipython3",
   "version": "3.7.3"
  }
 },
 "nbformat": 4,
 "nbformat_minor": 2
}
